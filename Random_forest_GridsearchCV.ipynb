{
 "cells": [
  {
   "cell_type": "code",
   "execution_count": 1,
   "metadata": {},
   "outputs": [],
   "source": [
    "import pandas as pd\n",
    "import numpy as np"
   ]
  },
  {
   "cell_type": "code",
   "execution_count": 187,
   "metadata": {},
   "outputs": [
    {
     "data": {
      "text/html": [
       "<div>\n",
       "<style scoped>\n",
       "    .dataframe tbody tr th:only-of-type {\n",
       "        vertical-align: middle;\n",
       "    }\n",
       "\n",
       "    .dataframe tbody tr th {\n",
       "        vertical-align: top;\n",
       "    }\n",
       "\n",
       "    .dataframe thead th {\n",
       "        text-align: right;\n",
       "    }\n",
       "</style>\n",
       "<table border=\"1\" class=\"dataframe\">\n",
       "  <thead>\n",
       "    <tr style=\"text-align: right;\">\n",
       "      <th></th>\n",
       "      <th>0</th>\n",
       "      <th>1</th>\n",
       "      <th>2</th>\n",
       "      <th>3</th>\n",
       "      <th>4</th>\n",
       "      <th>5</th>\n",
       "      <th>6</th>\n",
       "      <th>7</th>\n",
       "      <th>8</th>\n",
       "      <th>9</th>\n",
       "      <th>...</th>\n",
       "      <th>7120</th>\n",
       "      <th>7121</th>\n",
       "      <th>7122</th>\n",
       "      <th>7123</th>\n",
       "      <th>7124</th>\n",
       "      <th>7125</th>\n",
       "      <th>7126</th>\n",
       "      <th>7127</th>\n",
       "      <th>7128</th>\n",
       "      <th>7129</th>\n",
       "    </tr>\n",
       "  </thead>\n",
       "  <tbody>\n",
       "    <tr>\n",
       "      <th>0</th>\n",
       "      <td>-342</td>\n",
       "      <td>-200</td>\n",
       "      <td>41</td>\n",
       "      <td>328</td>\n",
       "      <td>-224</td>\n",
       "      <td>-427</td>\n",
       "      <td>-656</td>\n",
       "      <td>-292</td>\n",
       "      <td>137</td>\n",
       "      <td>-144</td>\n",
       "      <td>...</td>\n",
       "      <td>1023</td>\n",
       "      <td>67</td>\n",
       "      <td>214</td>\n",
       "      <td>-135</td>\n",
       "      <td>1074</td>\n",
       "      <td>475</td>\n",
       "      <td>48</td>\n",
       "      <td>168</td>\n",
       "      <td>-70</td>\n",
       "      <td>ALL</td>\n",
       "    </tr>\n",
       "    <tr>\n",
       "      <th>1</th>\n",
       "      <td>-87</td>\n",
       "      <td>-248</td>\n",
       "      <td>262</td>\n",
       "      <td>295</td>\n",
       "      <td>-226</td>\n",
       "      <td>-493</td>\n",
       "      <td>367</td>\n",
       "      <td>-452</td>\n",
       "      <td>194</td>\n",
       "      <td>162</td>\n",
       "      <td>...</td>\n",
       "      <td>529</td>\n",
       "      <td>-295</td>\n",
       "      <td>352</td>\n",
       "      <td>-67</td>\n",
       "      <td>67</td>\n",
       "      <td>263</td>\n",
       "      <td>-33</td>\n",
       "      <td>-33</td>\n",
       "      <td>-21</td>\n",
       "      <td>ALL</td>\n",
       "    </tr>\n",
       "    <tr>\n",
       "      <th>2</th>\n",
       "      <td>-62</td>\n",
       "      <td>-23</td>\n",
       "      <td>-7</td>\n",
       "      <td>142</td>\n",
       "      <td>-233</td>\n",
       "      <td>-284</td>\n",
       "      <td>-167</td>\n",
       "      <td>-97</td>\n",
       "      <td>-12</td>\n",
       "      <td>-70</td>\n",
       "      <td>...</td>\n",
       "      <td>383</td>\n",
       "      <td>46</td>\n",
       "      <td>104</td>\n",
       "      <td>15</td>\n",
       "      <td>245</td>\n",
       "      <td>164</td>\n",
       "      <td>84</td>\n",
       "      <td>100</td>\n",
       "      <td>-18</td>\n",
       "      <td>ALL</td>\n",
       "    </tr>\n",
       "    <tr>\n",
       "      <th>3</th>\n",
       "      <td>22</td>\n",
       "      <td>-153</td>\n",
       "      <td>17</td>\n",
       "      <td>276</td>\n",
       "      <td>-211</td>\n",
       "      <td>-250</td>\n",
       "      <td>55</td>\n",
       "      <td>-141</td>\n",
       "      <td>0</td>\n",
       "      <td>500</td>\n",
       "      <td>...</td>\n",
       "      <td>399</td>\n",
       "      <td>16</td>\n",
       "      <td>558</td>\n",
       "      <td>24</td>\n",
       "      <td>893</td>\n",
       "      <td>297</td>\n",
       "      <td>6</td>\n",
       "      <td>1971</td>\n",
       "      <td>-42</td>\n",
       "      <td>ALL</td>\n",
       "    </tr>\n",
       "    <tr>\n",
       "      <th>4</th>\n",
       "      <td>86</td>\n",
       "      <td>-36</td>\n",
       "      <td>-141</td>\n",
       "      <td>252</td>\n",
       "      <td>-201</td>\n",
       "      <td>-384</td>\n",
       "      <td>-420</td>\n",
       "      <td>-197</td>\n",
       "      <td>-60</td>\n",
       "      <td>-468</td>\n",
       "      <td>...</td>\n",
       "      <td>91</td>\n",
       "      <td>-84</td>\n",
       "      <td>615</td>\n",
       "      <td>-52</td>\n",
       "      <td>1235</td>\n",
       "      <td>9</td>\n",
       "      <td>7</td>\n",
       "      <td>1545</td>\n",
       "      <td>-81</td>\n",
       "      <td>ALL</td>\n",
       "    </tr>\n",
       "  </tbody>\n",
       "</table>\n",
       "<p>5 rows × 7130 columns</p>\n",
       "</div>"
      ],
      "text/plain": [
       "   0     1     2     3     4     5     6     7     8     9     ...  7120  \\\n",
       "0  -342  -200    41   328  -224  -427  -656  -292   137  -144  ...  1023   \n",
       "1   -87  -248   262   295  -226  -493   367  -452   194   162  ...   529   \n",
       "2   -62   -23    -7   142  -233  -284  -167   -97   -12   -70  ...   383   \n",
       "3    22  -153    17   276  -211  -250    55  -141     0   500  ...   399   \n",
       "4    86   -36  -141   252  -201  -384  -420  -197   -60  -468  ...    91   \n",
       "\n",
       "   7121  7122  7123  7124  7125  7126  7127  7128  7129  \n",
       "0    67   214  -135  1074   475    48   168   -70   ALL  \n",
       "1  -295   352   -67    67   263   -33   -33   -21   ALL  \n",
       "2    46   104    15   245   164    84   100   -18   ALL  \n",
       "3    16   558    24   893   297     6  1971   -42   ALL  \n",
       "4   -84   615   -52  1235     9     7  1545   -81   ALL  \n",
       "\n",
       "[5 rows x 7130 columns]"
      ]
     },
     "execution_count": 187,
     "metadata": {},
     "output_type": "execute_result"
    }
   ],
   "source": [
    "data = pd.read_csv('D:/rani/leukemia.csv',header = None)\n",
    "data.head()"
   ]
  },
  {
   "cell_type": "code",
   "execution_count": 188,
   "metadata": {},
   "outputs": [
    {
     "data": {
      "text/html": [
       "<div>\n",
       "<style scoped>\n",
       "    .dataframe tbody tr th:only-of-type {\n",
       "        vertical-align: middle;\n",
       "    }\n",
       "\n",
       "    .dataframe tbody tr th {\n",
       "        vertical-align: top;\n",
       "    }\n",
       "\n",
       "    .dataframe thead th {\n",
       "        text-align: right;\n",
       "    }\n",
       "</style>\n",
       "<table border=\"1\" class=\"dataframe\">\n",
       "  <thead>\n",
       "    <tr style=\"text-align: right;\">\n",
       "      <th></th>\n",
       "      <th>0</th>\n",
       "      <th>1</th>\n",
       "      <th>2</th>\n",
       "      <th>3</th>\n",
       "      <th>4</th>\n",
       "      <th>5</th>\n",
       "      <th>6</th>\n",
       "      <th>7</th>\n",
       "      <th>8</th>\n",
       "      <th>9</th>\n",
       "      <th>...</th>\n",
       "      <th>7119</th>\n",
       "      <th>7120</th>\n",
       "      <th>7121</th>\n",
       "      <th>7122</th>\n",
       "      <th>7123</th>\n",
       "      <th>7124</th>\n",
       "      <th>7125</th>\n",
       "      <th>7126</th>\n",
       "      <th>7127</th>\n",
       "      <th>7128</th>\n",
       "    </tr>\n",
       "  </thead>\n",
       "  <tbody>\n",
       "    <tr>\n",
       "      <th>0</th>\n",
       "      <td>-2.343119</td>\n",
       "      <td>-0.417685</td>\n",
       "      <td>0.402727</td>\n",
       "      <td>1.247951</td>\n",
       "      <td>0.241532</td>\n",
       "      <td>-0.206876</td>\n",
       "      <td>-2.091222</td>\n",
       "      <td>-1.021323</td>\n",
       "      <td>0.641052</td>\n",
       "      <td>-1.073110</td>\n",
       "      <td>...</td>\n",
       "      <td>1.087451</td>\n",
       "      <td>1.168094</td>\n",
       "      <td>0.907318</td>\n",
       "      <td>-0.446436</td>\n",
       "      <td>-1.960424</td>\n",
       "      <td>0.654856</td>\n",
       "      <td>0.834169</td>\n",
       "      <td>0.862406</td>\n",
       "      <td>-0.428500</td>\n",
       "      <td>-0.987929</td>\n",
       "    </tr>\n",
       "    <tr>\n",
       "      <th>1</th>\n",
       "      <td>0.284197</td>\n",
       "      <td>-0.920478</td>\n",
       "      <td>2.216537</td>\n",
       "      <td>0.950933</td>\n",
       "      <td>0.225048</td>\n",
       "      <td>-0.649105</td>\n",
       "      <td>1.527248</td>\n",
       "      <td>-2.634379</td>\n",
       "      <td>1.283042</td>\n",
       "      <td>0.282708</td>\n",
       "      <td>...</td>\n",
       "      <td>-0.987903</td>\n",
       "      <td>-0.459085</td>\n",
       "      <td>-3.263465</td>\n",
       "      <td>-0.079296</td>\n",
       "      <td>-0.644876</td>\n",
       "      <td>-1.592384</td>\n",
       "      <td>-0.199669</td>\n",
       "      <td>-0.955286</td>\n",
       "      <td>-0.752918</td>\n",
       "      <td>0.239762</td>\n",
       "    </tr>\n",
       "    <tr>\n",
       "      <th>2</th>\n",
       "      <td>0.541777</td>\n",
       "      <td>1.436365</td>\n",
       "      <td>0.008777</td>\n",
       "      <td>-0.426151</td>\n",
       "      <td>0.167355</td>\n",
       "      <td>0.751286</td>\n",
       "      <td>-0.361572</td>\n",
       "      <td>0.944590</td>\n",
       "      <td>-1.037134</td>\n",
       "      <td>-0.745232</td>\n",
       "      <td>...</td>\n",
       "      <td>-0.495809</td>\n",
       "      <td>-0.939992</td>\n",
       "      <td>0.665367</td>\n",
       "      <td>-0.739084</td>\n",
       "      <td>0.941519</td>\n",
       "      <td>-1.195156</td>\n",
       "      <td>-0.682452</td>\n",
       "      <td>1.670269</td>\n",
       "      <td>-0.538254</td>\n",
       "      <td>0.314926</td>\n",
       "    </tr>\n",
       "    <tr>\n",
       "      <th>3</th>\n",
       "      <td>1.407245</td>\n",
       "      <td>0.074633</td>\n",
       "      <td>0.205752</td>\n",
       "      <td>0.779923</td>\n",
       "      <td>0.348676</td>\n",
       "      <td>0.979101</td>\n",
       "      <td>0.423668</td>\n",
       "      <td>0.501000</td>\n",
       "      <td>-0.901978</td>\n",
       "      <td>1.780311</td>\n",
       "      <td>...</td>\n",
       "      <td>2.542338</td>\n",
       "      <td>-0.887290</td>\n",
       "      <td>0.319722</td>\n",
       "      <td>0.468754</td>\n",
       "      <td>1.115636</td>\n",
       "      <td>0.250933</td>\n",
       "      <td>-0.033865</td>\n",
       "      <td>-0.080101</td>\n",
       "      <td>2.481580</td>\n",
       "      <td>-0.286391</td>\n",
       "    </tr>\n",
       "    <tr>\n",
       "      <th>4</th>\n",
       "      <td>2.066650</td>\n",
       "      <td>1.300192</td>\n",
       "      <td>-1.090999</td>\n",
       "      <td>0.563909</td>\n",
       "      <td>0.431094</td>\n",
       "      <td>0.081243</td>\n",
       "      <td>-1.256462</td>\n",
       "      <td>-0.063570</td>\n",
       "      <td>-1.577757</td>\n",
       "      <td>-2.508682</td>\n",
       "      <td>...</td>\n",
       "      <td>1.772104</td>\n",
       "      <td>-1.901807</td>\n",
       "      <td>-0.832428</td>\n",
       "      <td>0.620399</td>\n",
       "      <td>-0.354682</td>\n",
       "      <td>1.014147</td>\n",
       "      <td>-1.438325</td>\n",
       "      <td>-0.057660</td>\n",
       "      <td>1.794007</td>\n",
       "      <td>-1.263533</td>\n",
       "    </tr>\n",
       "  </tbody>\n",
       "</table>\n",
       "<p>5 rows × 7129 columns</p>\n",
       "</div>"
      ],
      "text/plain": [
       "       0         1         2         3         4         5         6     \\\n",
       "0 -2.343119 -0.417685  0.402727  1.247951  0.241532 -0.206876 -2.091222   \n",
       "1  0.284197 -0.920478  2.216537  0.950933  0.225048 -0.649105  1.527248   \n",
       "2  0.541777  1.436365  0.008777 -0.426151  0.167355  0.751286 -0.361572   \n",
       "3  1.407245  0.074633  0.205752  0.779923  0.348676  0.979101  0.423668   \n",
       "4  2.066650  1.300192 -1.090999  0.563909  0.431094  0.081243 -1.256462   \n",
       "\n",
       "       7         8         9     ...      7119      7120      7121      7122  \\\n",
       "0 -1.021323  0.641052 -1.073110  ...  1.087451  1.168094  0.907318 -0.446436   \n",
       "1 -2.634379  1.283042  0.282708  ... -0.987903 -0.459085 -3.263465 -0.079296   \n",
       "2  0.944590 -1.037134 -0.745232  ... -0.495809 -0.939992  0.665367 -0.739084   \n",
       "3  0.501000 -0.901978  1.780311  ...  2.542338 -0.887290  0.319722  0.468754   \n",
       "4 -0.063570 -1.577757 -2.508682  ...  1.772104 -1.901807 -0.832428  0.620399   \n",
       "\n",
       "       7123      7124      7125      7126      7127      7128  \n",
       "0 -1.960424  0.654856  0.834169  0.862406 -0.428500 -0.987929  \n",
       "1 -0.644876 -1.592384 -0.199669 -0.955286 -0.752918  0.239762  \n",
       "2  0.941519 -1.195156 -0.682452  1.670269 -0.538254  0.314926  \n",
       "3  1.115636  0.250933 -0.033865 -0.080101  2.481580 -0.286391  \n",
       "4 -0.354682  1.014147 -1.438325 -0.057660  1.794007 -1.263533  \n",
       "\n",
       "[5 rows x 7129 columns]"
      ]
     },
     "execution_count": 188,
     "metadata": {},
     "output_type": "execute_result"
    }
   ],
   "source": [
    "from sklearn.preprocessing import scale, LabelEncoder\n",
    "x = scale(data.iloc[:,:-1])\n",
    "X = pd.DataFrame(x)\n",
    "X.head()"
   ]
  },
  {
   "cell_type": "code",
   "execution_count": 191,
   "metadata": {},
   "outputs": [],
   "source": [
    "Y = data.iloc[:, -1]"
   ]
  },
  {
   "cell_type": "code",
   "execution_count": 192,
   "metadata": {},
   "outputs": [],
   "source": [
    "label = LabelEncoder()\n",
    "label.fit(Y)\n",
    "y =label.transform(Y)"
   ]
  },
  {
   "cell_type": "code",
   "execution_count": 193,
   "metadata": {},
   "outputs": [
    {
     "data": {
      "text/plain": [
       "numpy.ndarray"
      ]
     },
     "execution_count": 193,
     "metadata": {},
     "output_type": "execute_result"
    }
   ],
   "source": [
    "type(y)"
   ]
  },
  {
   "cell_type": "code",
   "execution_count": 194,
   "metadata": {},
   "outputs": [
    {
     "data": {
      "text/plain": [
       "(array([0, 1]), array([47, 25], dtype=int64))"
      ]
     },
     "execution_count": 194,
     "metadata": {},
     "output_type": "execute_result"
    }
   ],
   "source": [
    "np.unique(y,return_counts= True)"
   ]
  },
  {
   "cell_type": "code",
   "execution_count": 198,
   "metadata": {},
   "outputs": [],
   "source": [
    "from sklearn.model_selection import train_test_split\n",
    "X_train, X_test ,Y_train, Y_test = train_test_split(X,y, test_size = 0.2, random_state =1)"
   ]
  },
  {
   "cell_type": "code",
   "execution_count": 199,
   "metadata": {},
   "outputs": [],
   "source": [
    "from sklearn.ensemble import RandomForestClassifier\n",
    "model = RandomForestClassifier(random_state = 42)\n",
    "model.fit(X_train,Y_train)\n",
    "Y_pred = model.predict(X_test)"
   ]
  },
  {
   "cell_type": "code",
   "execution_count": 200,
   "metadata": {},
   "outputs": [
    {
     "name": "stdout",
     "output_type": "stream",
     "text": [
      "MCC:  0.7844645405527361\n",
      "Accurcy:  0.9333333333333333\n"
     ]
    }
   ],
   "source": [
    "from sklearn.metrics import accuracy_score, matthews_corrcoef, confusion_matrix, make_scorer\n",
    "mcc = matthews_corrcoef(y_test, y_pred)\n",
    "acc = accuracy_score(Y_test, Y_pred)\n",
    "\n",
    "print(\"MCC: \" , mcc)\n",
    "print('Accurcy: ',acc)"
   ]
  },
  {
   "cell_type": "markdown",
   "metadata": {},
   "source": [
    "### using  gini"
   ]
  },
  {
   "cell_type": "code",
   "execution_count": 202,
   "metadata": {},
   "outputs": [
    {
     "name": "stdout",
     "output_type": "stream",
     "text": [
      "Fitting 5 folds for each of 75 candidates, totalling 375 fits\n"
     ]
    },
    {
     "name": "stderr",
     "output_type": "stream",
     "text": [
      "[Parallel(n_jobs=-1)]: Using backend LokyBackend with 4 concurrent workers.\n",
      "[Parallel(n_jobs=-1)]: Done  42 tasks      | elapsed:   27.2s\n",
      "[Parallel(n_jobs=-1)]: Done 192 tasks      | elapsed:  2.1min\n",
      "[Parallel(n_jobs=-1)]: Done 375 out of 375 | elapsed:  4.1min finished\n"
     ]
    },
    {
     "data": {
      "text/plain": [
       "GridSearchCV(cv=5, estimator=RandomForestClassifier(random_state=42), n_jobs=-1,\n",
       "             param_grid={'criterion': ['gini'],\n",
       "                         'max_depth': [None, 10, 20, 50, 100],\n",
       "                         'max_features': [0.01, 0.1, 0.2, 0.5, 'auto'],\n",
       "                         'n_estimators': [50, 100, 200]},\n",
       "             verbose=1)"
      ]
     },
     "execution_count": 202,
     "metadata": {},
     "output_type": "execute_result"
    }
   ],
   "source": [
    "from sklearn.model_selection import GridSearchCV\n",
    "rfc = RandomForestClassifier(random_state = 42)\n",
    "\n",
    "param_grid = {'n_estimators' : [50, 100, 200],\n",
    "              'max_features' : [0.01, 0.1, 0.2, 0.5,'auto'],\n",
    "              'max_depth': [None,10,20,50,100],\n",
    "              'criterion': ['gini']}\n",
    "grid = GridSearchCV(estimator = rfc,param_grid = param_grid, cv = 5, verbose = 1,n_jobs =-1 )\n",
    "grid.fit(X,y)\n",
    "\n"
   ]
  },
  {
   "cell_type": "code",
   "execution_count": 2,
   "metadata": {},
   "outputs": [
    {
     "ename": "NameError",
     "evalue": "name 'grid' is not defined",
     "output_type": "error",
     "traceback": [
      "\u001b[1;31m---------------------------------------------------------------------------\u001b[0m",
      "\u001b[1;31mNameError\u001b[0m                                 Traceback (most recent call last)",
      "\u001b[1;32m<ipython-input-2-77e37f146471>\u001b[0m in \u001b[0;36m<module>\u001b[1;34m\u001b[0m\n\u001b[1;32m----> 1\u001b[1;33m \u001b[0mclf\u001b[0m \u001b[1;33m=\u001b[0m \u001b[0mgrid\u001b[0m\u001b[1;33m.\u001b[0m\u001b[0mbest_estimator_\u001b[0m\u001b[1;33m\u001b[0m\u001b[1;33m\u001b[0m\u001b[0m\n\u001b[0m\u001b[0;32m      2\u001b[0m \u001b[0mclf\u001b[0m\u001b[1;33m.\u001b[0m\u001b[0mfit\u001b[0m\u001b[1;33m(\u001b[0m\u001b[0mx_train\u001b[0m\u001b[1;33m,\u001b[0m\u001b[0my_train\u001b[0m\u001b[1;33m)\u001b[0m\u001b[1;33m\u001b[0m\u001b[1;33m\u001b[0m\u001b[0m\n\u001b[0;32m      3\u001b[0m \u001b[0my_pred\u001b[0m  \u001b[1;33m=\u001b[0m \u001b[0mclf\u001b[0m\u001b[1;33m.\u001b[0m\u001b[0mpredict\u001b[0m\u001b[1;33m(\u001b[0m\u001b[0mx_test\u001b[0m\u001b[1;33m)\u001b[0m\u001b[1;33m\u001b[0m\u001b[1;33m\u001b[0m\u001b[0m\n\u001b[0;32m      4\u001b[0m \u001b[0mmatthews_corrcoef\u001b[0m\u001b[1;33m(\u001b[0m\u001b[0my_test\u001b[0m\u001b[1;33m,\u001b[0m \u001b[0my_pred\u001b[0m\u001b[1;33m)\u001b[0m\u001b[1;33m\u001b[0m\u001b[1;33m\u001b[0m\u001b[0m\n",
      "\u001b[1;31mNameError\u001b[0m: name 'grid' is not defined"
     ]
    }
   ],
   "source": [
    "clf = grid.best_estimator_\n",
    "clf.fit(X_train,Y_train)\n",
    "y_pred  = clf.predict(X_test)\n",
    "matthews_corrcoef(Y_test, y_pred)"
   ]
  },
  {
   "cell_type": "code",
   "execution_count": 3,
   "metadata": {},
   "outputs": [
    {
     "ename": "NameError",
     "evalue": "name 'grid' is not defined",
     "output_type": "error",
     "traceback": [
      "\u001b[1;31m---------------------------------------------------------------------------\u001b[0m",
      "\u001b[1;31mNameError\u001b[0m                                 Traceback (most recent call last)",
      "\u001b[1;32m<ipython-input-3-bbacbebae80e>\u001b[0m in \u001b[0;36m<module>\u001b[1;34m\u001b[0m\n\u001b[1;32m----> 1\u001b[1;33m \u001b[0mprint\u001b[0m\u001b[1;33m(\u001b[0m\u001b[0mgrid\u001b[0m\u001b[1;33m.\u001b[0m\u001b[0mbest_params_\u001b[0m\u001b[1;33m)\u001b[0m\u001b[1;33m\u001b[0m\u001b[1;33m\u001b[0m\u001b[0m\n\u001b[0m",
      "\u001b[1;31mNameError\u001b[0m: name 'grid' is not defined"
     ]
    }
   ],
   "source": [
    "print(grid.best_params_)"
   ]
  },
  {
   "cell_type": "code",
   "execution_count": 206,
   "metadata": {},
   "outputs": [],
   "source": [
    "feature_score = clf.feature_importances_\n"
   ]
  },
  {
   "cell_type": "code",
   "execution_count": 207,
   "metadata": {},
   "outputs": [
    {
     "data": {
      "text/plain": [
       "array([ 237, 6687,  286, 2142, 3343,  952, 5713, 6429, 3592, 6547, 2837,\n",
       "       5597, 6832, 6004, 3691, 2496, 6748, 5385, 4378, 2005,  980, 2323,\n",
       "       5541, 5650,  360, 5656, 4106, 2241, 1259, 3182, 1077, 6805, 2019,\n",
       "       3421, 3519, 1673, 4540,  378, 3257,  349,  757,   87, 4168, 3432,\n",
       "       6538, 6701, 2120, 4498, 2591, 1828, 4195, 5334,  750, 2000, 1927,\n",
       "       6572, 4779, 2401, 3347,  282, 1952, 6372, 1132, 1158, 2407,  873,\n",
       "       1925, 1744, 5771, 2440, 5500, 5832, 6375, 7118, 1778, 2832, 1290,\n",
       "       2140, 4365, 2641, 1143, 6280, 4327, 6040, 4228, 4893, 2110,  921,\n",
       "       2127, 2353,  803, 1684, 4846,  759, 2287, 3251, 4376, 6854, 1881,\n",
       "       1833], dtype=int64)"
      ]
     },
     "execution_count": 207,
     "metadata": {},
     "output_type": "execute_result"
    }
   ],
   "source": [
    "k =100\n",
    "selected_features = feature_score.argsort()[-k:]\n",
    "selected_features\n"
   ]
  },
  {
   "cell_type": "code",
   "execution_count": 208,
   "metadata": {},
   "outputs": [
    {
     "data": {
      "text/plain": [
       "(100,)"
      ]
     },
     "execution_count": 208,
     "metadata": {},
     "output_type": "execute_result"
    }
   ],
   "source": [
    "selected_features.shape"
   ]
  },
  {
   "cell_type": "code",
   "execution_count": null,
   "metadata": {},
   "outputs": [],
   "source": []
  },
  {
   "cell_type": "code",
   "execution_count": 209,
   "metadata": {},
   "outputs": [
    {
     "data": {
      "text/plain": [
       "(72, 100)"
      ]
     },
     "execution_count": 209,
     "metadata": {},
     "output_type": "execute_result"
    }
   ],
   "source": [
    "X_new = X.iloc[:, selected_features]  ### gini\n",
    "X_new.shape"
   ]
  },
  {
   "cell_type": "code",
   "execution_count": 210,
   "metadata": {},
   "outputs": [],
   "source": [
    "from sklearn.model_selection import train_test_split\n",
    "x_train, x_test ,y_train, y_test = train_test_split(X_new,y, test_size = 0.2, random_state =1)"
   ]
  },
  {
   "cell_type": "code",
   "execution_count": 211,
   "metadata": {},
   "outputs": [
    {
     "name": "stdout",
     "output_type": "stream",
     "text": [
      "MCC : 1.0\n",
      "Accuracy :  1.0\n"
     ]
    }
   ],
   "source": [
    "model = RandomForestClassifier(random_state= 42)\n",
    "model.fit(x_train,y_train)\n",
    "y_pred_gini = model.predict(x_test)\n",
    "mcc = matthews_corrcoef(y_test, y_pred_gini)\n",
    "acc = accuracy_score(y_test, y_pred_gini)\n",
    " \n",
    "print('MCC :', mcc) \n",
    "print('Accuracy : ' , acc)"
   ]
  },
  {
   "cell_type": "code",
   "execution_count": 212,
   "metadata": {},
   "outputs": [
    {
     "data": {
      "text/plain": [
       "0.9697056274847714"
      ]
     },
     "execution_count": 212,
     "metadata": {},
     "output_type": "execute_result"
    }
   ],
   "source": [
    "scorer = make_scorer(matthews_corrcoef)\n",
    "mcc_cv = cross_val_score(rfc, X_new,y,cv=5,scoring = scorer)  ### gini  ### cross validation`\n",
    "mcc_cv.mean()"
   ]
  },
  {
   "cell_type": "code",
   "execution_count": 213,
   "metadata": {},
   "outputs": [
    {
     "data": {
      "text/plain": [
       "0.9697056274847714"
      ]
     },
     "execution_count": 213,
     "metadata": {},
     "output_type": "execute_result"
    }
   ],
   "source": [
    "from sklearn.model_selection import StratifiedKFold\n",
    "scorer = make_scorer(matthews_corrcoef)\n",
    "kfold = StratifiedKFold(n_splits = 5)\n",
    "mcc_cv = cross_val_score(rfc, X_new,y,cv=kfold,scoring = scorer)  ### gini  ##StratifiedKFold\n",
    "mcc_cv.mean()"
   ]
  },
  {
   "cell_type": "markdown",
   "metadata": {},
   "source": [
    "### Using Entropy"
   ]
  },
  {
   "cell_type": "code",
   "execution_count": 214,
   "metadata": {},
   "outputs": [
    {
     "name": "stdout",
     "output_type": "stream",
     "text": [
      "Fitting 5 folds for each of 75 candidates, totalling 375 fits\n"
     ]
    },
    {
     "name": "stderr",
     "output_type": "stream",
     "text": [
      "[Parallel(n_jobs=-1)]: Using backend LokyBackend with 4 concurrent workers.\n",
      "[Parallel(n_jobs=-1)]: Done  42 tasks      | elapsed:   32.4s\n",
      "[Parallel(n_jobs=-1)]: Done 192 tasks      | elapsed:  3.2min\n",
      "[Parallel(n_jobs=-1)]: Done 375 out of 375 | elapsed:  6.3min finished\n"
     ]
    },
    {
     "data": {
      "text/plain": [
       "GridSearchCV(cv=5, estimator=RandomForestClassifier(random_state=42), n_jobs=-1,\n",
       "             param_grid={'criterion': ['entropy'],\n",
       "                         'max_depth': [None, 10, 20, 50, 100],\n",
       "                         'max_features': [0.01, 0.1, 0.2, 0.5, 'auto'],\n",
       "                         'n_estimators': [50, 100, 200]},\n",
       "             verbose=1)"
      ]
     },
     "execution_count": 214,
     "metadata": {},
     "output_type": "execute_result"
    }
   ],
   "source": [
    "from sklearn.model_selection import GridSearchCV\n",
    "rfc = RandomForestClassifier(random_state = 42)\n",
    "\n",
    "param_grid = {'n_estimators' : [50, 100, 200],\n",
    "              'max_features' : [0.01, 0.1, 0.2, 0.5,'auto'],\n",
    "              'max_depth': [None,10,20,50,100],\n",
    "              'criterion': ['entropy']}\n",
    "grid = GridSearchCV(estimator = rfc,param_grid = param_grid, cv = 5, verbose = 1,n_jobs =-1 )\n",
    "grid.fit(X,y)"
   ]
  },
  {
   "cell_type": "code",
   "execution_count": 215,
   "metadata": {},
   "outputs": [
    {
     "data": {
      "text/plain": [
       "1.0"
      ]
     },
     "execution_count": 215,
     "metadata": {},
     "output_type": "execute_result"
    }
   ],
   "source": [
    "clf = grid.best_estimator_\n",
    "clf.fit(X_train,Y_train)\n",
    "y_pred  = clf.predict(X_test)\n",
    "matthews_corrcoef(Y_test, y_pred)"
   ]
  },
  {
   "cell_type": "code",
   "execution_count": 216,
   "metadata": {},
   "outputs": [
    {
     "name": "stdout",
     "output_type": "stream",
     "text": [
      "{'criterion': 'entropy', 'max_depth': None, 'max_features': 0.01, 'n_estimators': 100}\n"
     ]
    }
   ],
   "source": [
    "print(grid.best_params_)"
   ]
  },
  {
   "cell_type": "code",
   "execution_count": 217,
   "metadata": {},
   "outputs": [],
   "source": [
    "feature_score = clf.feature_importances_"
   ]
  },
  {
   "cell_type": "code",
   "execution_count": 218,
   "metadata": {},
   "outputs": [
    {
     "data": {
      "text/plain": [
       "array([2854, 2834, 6459, 5624, 5217, 3713, 4297, 3251, 1126, 1744, 4954,\n",
       "       5128,  594, 1290, 3486, 1870,  531, 4188, 4323, 2829, 4152, 3065,\n",
       "        274, 6675, 6462, 6583, 2347, 4972, 5535, 4327, 3388, 4460, 3846,\n",
       "       1368, 5316, 2139, 3004, 2140, 4420,  258, 2267, 3432, 6998, 3680,\n",
       "       1944, 5106, 1259, 5273, 4329, 6278, 2631, 6435, 4191, 6268, 6168,\n",
       "       1724, 2083, 1901, 2738, 2744,  584, 3103, 1673,  697, 2110, 4679,\n",
       "        342, 4779, 2641, 2407, 2994, 6711, 4372, 1881, 7118, 6040,  921,\n",
       "        929, 3319, 2127, 3667, 1684, 3705, 6184, 3022, 4376, 2019, 3257,\n",
       "       4106, 6280, 4365, 4228, 1778,  803, 1143, 2287, 6854, 2120,  759,\n",
       "       1833], dtype=int64)"
      ]
     },
     "execution_count": 218,
     "metadata": {},
     "output_type": "execute_result"
    }
   ],
   "source": [
    "k =100\n",
    "selected_features = feature_score.argsort()[-k:]\n",
    "selected_features"
   ]
  },
  {
   "cell_type": "code",
   "execution_count": 219,
   "metadata": {},
   "outputs": [
    {
     "data": {
      "text/plain": [
       "(72, 100)"
      ]
     },
     "execution_count": 219,
     "metadata": {},
     "output_type": "execute_result"
    }
   ],
   "source": [
    "x_new = X.iloc[:, selected_features]  ### entropy\n",
    "x_new.shape"
   ]
  },
  {
   "cell_type": "code",
   "execution_count": 220,
   "metadata": {},
   "outputs": [],
   "source": [
    "from sklearn.model_selection import train_test_split\n",
    "x_trainE, x_testE ,y_trainE, y_testE = train_test_split(x_new,y, test_size = 0.2, random_state =1)"
   ]
  },
  {
   "cell_type": "code",
   "execution_count": 221,
   "metadata": {},
   "outputs": [
    {
     "name": "stdout",
     "output_type": "stream",
     "text": [
      "MCC : 1.0\n",
      "Accuracy :  1.0\n"
     ]
    }
   ],
   "source": [
    "model = RandomForestClassifier(random_state= 42)\n",
    "model.fit(x_trainE,y_trainE)\n",
    "y_predE = model.predict(x_testE)\n",
    "mcc = matthews_corrcoef(y_testE, y_predE)\n",
    " \n",
    "print('MCC :', mcc) \n",
    "print('Accuracy : ' , acc)\n",
    "\n"
   ]
  },
  {
   "cell_type": "code",
   "execution_count": 222,
   "metadata": {},
   "outputs": [
    {
     "data": {
      "text/plain": [
       "0.9697056274847714"
      ]
     },
     "execution_count": 222,
     "metadata": {},
     "output_type": "execute_result"
    }
   ],
   "source": [
    "from sklearn.model_selection import cross_val_score\n",
    "scorer = make_scorer(matthews_corrcoef)\n",
    "mcc_cv = cross_val_score(rfc, X,y,cv=5,scoring = scorer)  ### full data cross validation\n",
    "mcc_cv.mean()"
   ]
  },
  {
   "cell_type": "code",
   "execution_count": 223,
   "metadata": {},
   "outputs": [
    {
     "data": {
      "text/plain": [
       "0.9697056274847714"
      ]
     },
     "execution_count": 223,
     "metadata": {},
     "output_type": "execute_result"
    }
   ],
   "source": [
    "scorer = make_scorer(matthews_corrcoef)\n",
    "mcc_cv = cross_val_score(rfc, x_new,y,cv=5,scoring = scorer)  ### entropy ### crosss validation\n",
    "mcc_cv.mean()"
   ]
  },
  {
   "cell_type": "code",
   "execution_count": 224,
   "metadata": {},
   "outputs": [
    {
     "data": {
      "text/plain": [
       "array([1.        , 1.        , 0.84852814, 1.        , 1.        ])"
      ]
     },
     "execution_count": 224,
     "metadata": {},
     "output_type": "execute_result"
    }
   ],
   "source": [
    "from sklearn.model_selection import StratifiedKFold\n",
    "scorer = make_scorer(matthews_corrcoef)\n",
    "kfold = StratifiedKFold(n_splits = 5)\n",
    "mcc_cv = cross_val_score(rfc, x_new,y,cv=kfold,scoring = scorer)  ### entropy\n",
    "mcc_cv\n"
   ]
  },
  {
   "cell_type": "code",
   "execution_count": 225,
   "metadata": {},
   "outputs": [
    {
     "data": {
      "text/plain": [
       "0.9697056274847714"
      ]
     },
     "execution_count": 225,
     "metadata": {},
     "output_type": "execute_result"
    }
   ],
   "source": [
    "mcc_cv.mean()"
   ]
  },
  {
   "cell_type": "code",
   "execution_count": 226,
   "metadata": {},
   "outputs": [
    {
     "data": {
      "text/html": [
       "<div>\n",
       "<style scoped>\n",
       "    .dataframe tbody tr th:only-of-type {\n",
       "        vertical-align: middle;\n",
       "    }\n",
       "\n",
       "    .dataframe tbody tr th {\n",
       "        vertical-align: top;\n",
       "    }\n",
       "\n",
       "    .dataframe thead th {\n",
       "        text-align: right;\n",
       "    }\n",
       "</style>\n",
       "<table border=\"1\" class=\"dataframe\">\n",
       "  <thead>\n",
       "    <tr style=\"text-align: right;\">\n",
       "      <th></th>\n",
       "      <th>mean_fit_time</th>\n",
       "      <th>std_fit_time</th>\n",
       "      <th>mean_score_time</th>\n",
       "      <th>std_score_time</th>\n",
       "      <th>param_criterion</th>\n",
       "      <th>param_max_depth</th>\n",
       "      <th>param_max_features</th>\n",
       "      <th>param_n_estimators</th>\n",
       "      <th>params</th>\n",
       "      <th>split0_test_score</th>\n",
       "      <th>split1_test_score</th>\n",
       "      <th>split2_test_score</th>\n",
       "      <th>split3_test_score</th>\n",
       "      <th>split4_test_score</th>\n",
       "      <th>mean_test_score</th>\n",
       "      <th>std_test_score</th>\n",
       "      <th>rank_test_score</th>\n",
       "    </tr>\n",
       "  </thead>\n",
       "  <tbody>\n",
       "    <tr>\n",
       "      <th>0</th>\n",
       "      <td>0.558996</td>\n",
       "      <td>0.010276</td>\n",
       "      <td>0.178527</td>\n",
       "      <td>0.009358</td>\n",
       "      <td>entropy</td>\n",
       "      <td>None</td>\n",
       "      <td>0.01</td>\n",
       "      <td>50</td>\n",
       "      <td>{'criterion': 'entropy', 'max_depth': None, 'm...</td>\n",
       "      <td>1.0</td>\n",
       "      <td>0.933333</td>\n",
       "      <td>0.928571</td>\n",
       "      <td>1.000000</td>\n",
       "      <td>1.000000</td>\n",
       "      <td>0.972381</td>\n",
       "      <td>0.033860</td>\n",
       "      <td>11</td>\n",
       "    </tr>\n",
       "    <tr>\n",
       "      <th>1</th>\n",
       "      <td>0.932262</td>\n",
       "      <td>0.033332</td>\n",
       "      <td>0.199141</td>\n",
       "      <td>0.009018</td>\n",
       "      <td>entropy</td>\n",
       "      <td>None</td>\n",
       "      <td>0.01</td>\n",
       "      <td>100</td>\n",
       "      <td>{'criterion': 'entropy', 'max_depth': None, 'm...</td>\n",
       "      <td>1.0</td>\n",
       "      <td>1.000000</td>\n",
       "      <td>0.928571</td>\n",
       "      <td>1.000000</td>\n",
       "      <td>1.000000</td>\n",
       "      <td>0.985714</td>\n",
       "      <td>0.028571</td>\n",
       "      <td>1</td>\n",
       "    </tr>\n",
       "    <tr>\n",
       "      <th>2</th>\n",
       "      <td>1.740894</td>\n",
       "      <td>0.062024</td>\n",
       "      <td>0.216354</td>\n",
       "      <td>0.006405</td>\n",
       "      <td>entropy</td>\n",
       "      <td>None</td>\n",
       "      <td>0.01</td>\n",
       "      <td>200</td>\n",
       "      <td>{'criterion': 'entropy', 'max_depth': None, 'm...</td>\n",
       "      <td>1.0</td>\n",
       "      <td>0.933333</td>\n",
       "      <td>0.928571</td>\n",
       "      <td>1.000000</td>\n",
       "      <td>1.000000</td>\n",
       "      <td>0.972381</td>\n",
       "      <td>0.033860</td>\n",
       "      <td>11</td>\n",
       "    </tr>\n",
       "    <tr>\n",
       "      <th>3</th>\n",
       "      <td>1.306528</td>\n",
       "      <td>0.050134</td>\n",
       "      <td>0.166918</td>\n",
       "      <td>0.002318</td>\n",
       "      <td>entropy</td>\n",
       "      <td>None</td>\n",
       "      <td>0.1</td>\n",
       "      <td>50</td>\n",
       "      <td>{'criterion': 'entropy', 'max_depth': None, 'm...</td>\n",
       "      <td>1.0</td>\n",
       "      <td>0.933333</td>\n",
       "      <td>0.857143</td>\n",
       "      <td>0.928571</td>\n",
       "      <td>1.000000</td>\n",
       "      <td>0.943810</td>\n",
       "      <td>0.053231</td>\n",
       "      <td>46</td>\n",
       "    </tr>\n",
       "    <tr>\n",
       "      <th>4</th>\n",
       "      <td>2.556215</td>\n",
       "      <td>0.088953</td>\n",
       "      <td>0.186333</td>\n",
       "      <td>0.004625</td>\n",
       "      <td>entropy</td>\n",
       "      <td>None</td>\n",
       "      <td>0.1</td>\n",
       "      <td>100</td>\n",
       "      <td>{'criterion': 'entropy', 'max_depth': None, 'm...</td>\n",
       "      <td>1.0</td>\n",
       "      <td>0.933333</td>\n",
       "      <td>0.928571</td>\n",
       "      <td>1.000000</td>\n",
       "      <td>1.000000</td>\n",
       "      <td>0.972381</td>\n",
       "      <td>0.033860</td>\n",
       "      <td>11</td>\n",
       "    </tr>\n",
       "    <tr>\n",
       "      <th>...</th>\n",
       "      <td>...</td>\n",
       "      <td>...</td>\n",
       "      <td>...</td>\n",
       "      <td>...</td>\n",
       "      <td>...</td>\n",
       "      <td>...</td>\n",
       "      <td>...</td>\n",
       "      <td>...</td>\n",
       "      <td>...</td>\n",
       "      <td>...</td>\n",
       "      <td>...</td>\n",
       "      <td>...</td>\n",
       "      <td>...</td>\n",
       "      <td>...</td>\n",
       "      <td>...</td>\n",
       "      <td>...</td>\n",
       "      <td>...</td>\n",
       "    </tr>\n",
       "    <tr>\n",
       "      <th>70</th>\n",
       "      <td>7.150480</td>\n",
       "      <td>0.324101</td>\n",
       "      <td>0.151508</td>\n",
       "      <td>0.003384</td>\n",
       "      <td>entropy</td>\n",
       "      <td>100</td>\n",
       "      <td>0.5</td>\n",
       "      <td>100</td>\n",
       "      <td>{'criterion': 'entropy', 'max_depth': 100, 'ma...</td>\n",
       "      <td>1.0</td>\n",
       "      <td>0.933333</td>\n",
       "      <td>0.857143</td>\n",
       "      <td>0.928571</td>\n",
       "      <td>0.928571</td>\n",
       "      <td>0.929524</td>\n",
       "      <td>0.045216</td>\n",
       "      <td>61</td>\n",
       "    </tr>\n",
       "    <tr>\n",
       "      <th>71</th>\n",
       "      <td>13.553416</td>\n",
       "      <td>0.767302</td>\n",
       "      <td>0.161314</td>\n",
       "      <td>0.033150</td>\n",
       "      <td>entropy</td>\n",
       "      <td>100</td>\n",
       "      <td>0.5</td>\n",
       "      <td>200</td>\n",
       "      <td>{'criterion': 'entropy', 'max_depth': 100, 'ma...</td>\n",
       "      <td>1.0</td>\n",
       "      <td>0.933333</td>\n",
       "      <td>0.928571</td>\n",
       "      <td>0.928571</td>\n",
       "      <td>0.928571</td>\n",
       "      <td>0.943810</td>\n",
       "      <td>0.028156</td>\n",
       "      <td>46</td>\n",
       "    </tr>\n",
       "    <tr>\n",
       "      <th>72</th>\n",
       "      <td>0.446716</td>\n",
       "      <td>0.009735</td>\n",
       "      <td>0.139700</td>\n",
       "      <td>0.002579</td>\n",
       "      <td>entropy</td>\n",
       "      <td>100</td>\n",
       "      <td>auto</td>\n",
       "      <td>50</td>\n",
       "      <td>{'criterion': 'entropy', 'max_depth': 100, 'ma...</td>\n",
       "      <td>1.0</td>\n",
       "      <td>1.000000</td>\n",
       "      <td>0.928571</td>\n",
       "      <td>1.000000</td>\n",
       "      <td>0.928571</td>\n",
       "      <td>0.971429</td>\n",
       "      <td>0.034993</td>\n",
       "      <td>31</td>\n",
       "    </tr>\n",
       "    <tr>\n",
       "      <th>73</th>\n",
       "      <td>0.744328</td>\n",
       "      <td>0.008548</td>\n",
       "      <td>0.152108</td>\n",
       "      <td>0.002759</td>\n",
       "      <td>entropy</td>\n",
       "      <td>100</td>\n",
       "      <td>auto</td>\n",
       "      <td>100</td>\n",
       "      <td>{'criterion': 'entropy', 'max_depth': 100, 'ma...</td>\n",
       "      <td>1.0</td>\n",
       "      <td>1.000000</td>\n",
       "      <td>0.928571</td>\n",
       "      <td>1.000000</td>\n",
       "      <td>0.928571</td>\n",
       "      <td>0.971429</td>\n",
       "      <td>0.034993</td>\n",
       "      <td>31</td>\n",
       "    </tr>\n",
       "    <tr>\n",
       "      <th>74</th>\n",
       "      <td>1.385172</td>\n",
       "      <td>0.048832</td>\n",
       "      <td>0.178327</td>\n",
       "      <td>0.004449</td>\n",
       "      <td>entropy</td>\n",
       "      <td>100</td>\n",
       "      <td>auto</td>\n",
       "      <td>200</td>\n",
       "      <td>{'criterion': 'entropy', 'max_depth': 100, 'ma...</td>\n",
       "      <td>1.0</td>\n",
       "      <td>1.000000</td>\n",
       "      <td>0.928571</td>\n",
       "      <td>1.000000</td>\n",
       "      <td>1.000000</td>\n",
       "      <td>0.985714</td>\n",
       "      <td>0.028571</td>\n",
       "      <td>1</td>\n",
       "    </tr>\n",
       "  </tbody>\n",
       "</table>\n",
       "<p>75 rows × 17 columns</p>\n",
       "</div>"
      ],
      "text/plain": [
       "    mean_fit_time  std_fit_time  mean_score_time  std_score_time  \\\n",
       "0        0.558996      0.010276         0.178527        0.009358   \n",
       "1        0.932262      0.033332         0.199141        0.009018   \n",
       "2        1.740894      0.062024         0.216354        0.006405   \n",
       "3        1.306528      0.050134         0.166918        0.002318   \n",
       "4        2.556215      0.088953         0.186333        0.004625   \n",
       "..            ...           ...              ...             ...   \n",
       "70       7.150480      0.324101         0.151508        0.003384   \n",
       "71      13.553416      0.767302         0.161314        0.033150   \n",
       "72       0.446716      0.009735         0.139700        0.002579   \n",
       "73       0.744328      0.008548         0.152108        0.002759   \n",
       "74       1.385172      0.048832         0.178327        0.004449   \n",
       "\n",
       "   param_criterion param_max_depth param_max_features param_n_estimators  \\\n",
       "0          entropy            None               0.01                 50   \n",
       "1          entropy            None               0.01                100   \n",
       "2          entropy            None               0.01                200   \n",
       "3          entropy            None                0.1                 50   \n",
       "4          entropy            None                0.1                100   \n",
       "..             ...             ...                ...                ...   \n",
       "70         entropy             100                0.5                100   \n",
       "71         entropy             100                0.5                200   \n",
       "72         entropy             100               auto                 50   \n",
       "73         entropy             100               auto                100   \n",
       "74         entropy             100               auto                200   \n",
       "\n",
       "                                               params  split0_test_score  \\\n",
       "0   {'criterion': 'entropy', 'max_depth': None, 'm...                1.0   \n",
       "1   {'criterion': 'entropy', 'max_depth': None, 'm...                1.0   \n",
       "2   {'criterion': 'entropy', 'max_depth': None, 'm...                1.0   \n",
       "3   {'criterion': 'entropy', 'max_depth': None, 'm...                1.0   \n",
       "4   {'criterion': 'entropy', 'max_depth': None, 'm...                1.0   \n",
       "..                                                ...                ...   \n",
       "70  {'criterion': 'entropy', 'max_depth': 100, 'ma...                1.0   \n",
       "71  {'criterion': 'entropy', 'max_depth': 100, 'ma...                1.0   \n",
       "72  {'criterion': 'entropy', 'max_depth': 100, 'ma...                1.0   \n",
       "73  {'criterion': 'entropy', 'max_depth': 100, 'ma...                1.0   \n",
       "74  {'criterion': 'entropy', 'max_depth': 100, 'ma...                1.0   \n",
       "\n",
       "    split1_test_score  split2_test_score  split3_test_score  \\\n",
       "0            0.933333           0.928571           1.000000   \n",
       "1            1.000000           0.928571           1.000000   \n",
       "2            0.933333           0.928571           1.000000   \n",
       "3            0.933333           0.857143           0.928571   \n",
       "4            0.933333           0.928571           1.000000   \n",
       "..                ...                ...                ...   \n",
       "70           0.933333           0.857143           0.928571   \n",
       "71           0.933333           0.928571           0.928571   \n",
       "72           1.000000           0.928571           1.000000   \n",
       "73           1.000000           0.928571           1.000000   \n",
       "74           1.000000           0.928571           1.000000   \n",
       "\n",
       "    split4_test_score  mean_test_score  std_test_score  rank_test_score  \n",
       "0            1.000000         0.972381        0.033860               11  \n",
       "1            1.000000         0.985714        0.028571                1  \n",
       "2            1.000000         0.972381        0.033860               11  \n",
       "3            1.000000         0.943810        0.053231               46  \n",
       "4            1.000000         0.972381        0.033860               11  \n",
       "..                ...              ...             ...              ...  \n",
       "70           0.928571         0.929524        0.045216               61  \n",
       "71           0.928571         0.943810        0.028156               46  \n",
       "72           0.928571         0.971429        0.034993               31  \n",
       "73           0.928571         0.971429        0.034993               31  \n",
       "74           1.000000         0.985714        0.028571                1  \n",
       "\n",
       "[75 rows x 17 columns]"
      ]
     },
     "execution_count": 226,
     "metadata": {},
     "output_type": "execute_result"
    }
   ],
   "source": [
    "#print(grid.cv_results_)\n",
    "df = pd.DataFrame(grid.cv_results_)\n",
    "df"
   ]
  },
  {
   "cell_type": "code",
   "execution_count": null,
   "metadata": {},
   "outputs": [],
   "source": []
  }
 ],
 "metadata": {
  "kernelspec": {
   "display_name": "Python 3",
   "language": "python",
   "name": "python3"
  },
  "language_info": {
   "codemirror_mode": {
    "name": "ipython",
    "version": 3
   },
   "file_extension": ".py",
   "mimetype": "text/x-python",
   "name": "python",
   "nbconvert_exporter": "python",
   "pygments_lexer": "ipython3",
   "version": "3.8.3"
  }
 },
 "nbformat": 4,
 "nbformat_minor": 4
}
